{
 "cells": [
  {
   "cell_type": "markdown",
   "id": "eea524ac-93dd-45d1-b22f-742b6a58a02c",
   "metadata": {},
   "source": [
    "# TONNARELLI CACIO E PEPE"
   ]
  },
  {
   "cell_type": "markdown",
   "id": "7a9e0c33-bff5-4a53-bad6-39731d43005b",
   "metadata": {},
   "source": [
    "### Presentazione:"
   ]
  },
  {
   "cell_type": "markdown",
   "id": "4418190d-2e52-4ec7-89b7-73b4af4dfd79",
   "metadata": {},
   "source": [
    "I tonnarelli (o spaghetti) cacio e pepe, come anche la Carbonara e l'Amatriciana sono diventati oramai piatti simbolo dell'italianità, del mangiar bene con ingredienti DOP e legati alle tradizioni dei territori in cui sono nate. Un'eccellenza che dalle \"tovaglie a quadretti\" arriva nelle cucine dei grandi Chef."
   ]
  },
  {
   "cell_type": "markdown",
   "id": "b47570ba-6217-4c52-ab22-512e5fe1b97f",
   "metadata": {},
   "source": [
    "### Ingredienti:"
   ]
  },
  {
   "cell_type": "code",
   "execution_count": 15,
   "id": "abb68362-5d43-4b19-ab57-83085c215863",
   "metadata": {},
   "outputs": [],
   "source": [
    "n=1"
   ]
  },
  {
   "cell_type": "code",
   "execution_count": 16,
   "id": "aea3bbcb-a821-4f7b-8af7-158a72d1d171",
   "metadata": {},
   "outputs": [
    {
     "name": "stdout",
     "output_type": "stream",
     "text": [
      "Grammi di pasta 80\n"
     ]
    }
   ],
   "source": [
    "grammipasta= 80*n\n",
    "print (\"Grammi di pasta\", grammipasta)\n"
   ]
  },
  {
   "cell_type": "code",
   "execution_count": 17,
   "id": "4300f6e4-fbea-41ad-94d2-49ead7762bf2",
   "metadata": {},
   "outputs": [
    {
     "name": "stdout",
     "output_type": "stream",
     "text": [
      "Grammi di pecorino romano 50\n"
     ]
    }
   ],
   "source": [
    "grammipecorino= 50*n\n",
    "print (\"Grammi di pecorino romano\", grammipecorino)"
   ]
  },
  {
   "cell_type": "markdown",
   "id": "80bbd257-e06e-4d58-bcfd-f6b8ec486c2c",
   "metadata": {},
   "source": [
    "Pepe nero in grani q.b <br> Sale q.b"
   ]
  },
  {
   "cell_type": "markdown",
   "id": "79c2570d-d2ed-4d97-8fa6-a49051afe946",
   "metadata": {},
   "source": [
    "### Preparazione"
   ]
  },
  {
   "cell_type": "markdown",
   "id": "4234de29-bd17-4082-bbbf-4c4c11a9771a",
   "metadata": {},
   "source": [
    "Difficoltà: Facile <br>\n",
    "Preparazione: 10 min <br>\n",
    "Cottura: 10 min <br>\n",
    "Costo: Basso <br>"
   ]
  },
  {
   "cell_type": "markdown",
   "id": "b5cf1ba6-abc8-4809-97da-e226bf0496a4",
   "metadata": {},
   "source": [
    "### Ricetta"
   ]
  },
  {
   "cell_type": "markdown",
   "id": "a58eb62d-6f3a-48aa-b2ed-c9d98417d64e",
   "metadata": {},
   "source": [
    "Per preparare i tonnarelli cacio e pepe, come prima cosa occupatevi di grattugiare 50 g di Pecorino. Proseguite mettendo a bollire l'acqua in un tegame  e quando bollirà potete salare a piacere. Una volta salata, potete cuocere i tonnarelli. Nel frattempo, versate i grani di pepe interi su un tagliere, quindi schiacciateli pestando con un pestello per carne o un macinino. In questo modo si sprigionerà maggiormente il profumo pungente del pepe.\n",
    "Versate metà dose di pepe schiacciato in una padella ampia antiaderente, tostatelo a fuoco dolce mescolando con una paletta di legno, poi sfumate con paio di mestoli di acqua di cottura della pasta. Le bollicine che vedrete comparire saranno dovute all'amido contenuto nell'acqua. Scolate quindi i tonnarelli quando saranno molto al dente (tenendo da parte l'acqua di cottura) e versateli direttamente nella padella con il pepe tostato.\n",
    "Smuovete la pasta continuamente con delle pinze da cucina per farla \"respirare\" e aggiungete un mestolo di acqua o due al bisogno, per continuare la cottura risottando i tonnarelli. Continuate a versare un mestolo di acqua solo al bisogno (quando vedete che la padella è quasi completamente asciutta) e a rimestare con le pinze da cucina. Nel frattempo che la pasta arriva a cottura, occupatevi della crema al Pecorino (non iniziate prima questa operazione perchè la crema si rapprenderebbe troppo): versatene circa metà dose di Pecorino grattugiato in una ciotola.\n",
    "Aggiungete un mestolo di acqua di cottura della pasta sul Pecorino grattugiato. Mescolate con una frusta in maniera energica e aggiungete ancora acqua al bisogno. Unite poi la dose restante di Pecorino, tenendone poco da parte per condire successivamente. Unite ancora un po' di acqua al bisogno: in questa fase dovrete calibrare bene dose di Pecorino e acqua per ottenere una cremina della giusta consistenzae senza grumi.\n",
    "Terminate la cottura della pasta; prima di unire la crema di Pecorino, mescolate brevemente la crema ponendo la ciotola sopra il vapore del tegame con acqua calda, mescolate sempre con la frusta , così da riportare la crema ad una temperatura simile a quella della pasta se necessario. Spegnete il fuoco della padella con i tonnarelli e versate la crema di Pecorino.\n",
    "Mentre versate la crema di Pecorino sui tonnarelli, muoveteli continuamente con la pinza da cucina , versate anche il Pecorino che avevate tenuto da parte , mescolate e saltate ancora la pasta quindi impiattate i vostri tonnarelli cacio e pepe e insaporite con il restante pepe, gustate subito in tutta la loro cremosità!"
   ]
  },
  {
   "cell_type": "markdown",
   "id": "25d20283-62e6-4c7f-aee0-47ea77f63b7b",
   "metadata": {},
   "source": [
    " ![ricetta](Pasta-cacio-e-pepe.png)"
   ]
  },
  {
   "cell_type": "markdown",
   "id": "a49483e2-8ea5-44e1-aa25-a280e14deff3",
   "metadata": {},
   "source": []
  }
 ],
 "metadata": {
  "kernelspec": {
   "display_name": "Python 3 (ipykernel)",
   "language": "python",
   "name": "python3"
  },
  "language_info": {
   "codemirror_mode": {
    "name": "ipython",
    "version": 3
   },
   "file_extension": ".py",
   "mimetype": "text/x-python",
   "name": "python",
   "nbconvert_exporter": "python",
   "pygments_lexer": "ipython3",
   "version": "3.9.7"
  }
 },
 "nbformat": 4,
 "nbformat_minor": 5
}
